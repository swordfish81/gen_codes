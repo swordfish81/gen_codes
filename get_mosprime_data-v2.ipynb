{
 "cells": [
  {
   "cell_type": "markdown",
   "id": "53b462dc",
   "metadata": {},
   "source": [
    "# Scrape MOSPRIME and get rates v2"
   ]
  },
  {
   "cell_type": "markdown",
   "id": "a656c566",
   "metadata": {},
   "source": [
    "This script uses the read_html function to read the table after getting it through BS and read_html.  \n",
    "This v2 scrapes off the home page as Mosprime is slow during 1620 CET"
   ]
  },
  {
   "cell_type": "code",
   "execution_count": 39,
   "id": "7cd746c5",
   "metadata": {},
   "outputs": [],
   "source": [
    "import pandas as pd\n",
    "from datetime import datetime, timedelta\n",
    "from pandas.tseries.offsets import BDay\n",
    "from bs4 import BeautifulSoup\n",
    "import requests"
   ]
  },
  {
   "cell_type": "code",
   "execution_count": 40,
   "id": "b879f57c",
   "metadata": {},
   "outputs": [],
   "source": [
    "## Use Proxy Dictionary if required\n",
    "proxy_dict = {'http:':'url here:port'}"
   ]
  },
  {
   "cell_type": "code",
   "execution_count": 41,
   "id": "a6afd082",
   "metadata": {},
   "outputs": [],
   "source": [
    "tdy = datetime.today().date()\n",
    "ydy = tdy - timedelta(days=1)\n",
    "today = tdy.strftime('%Y-%m-%d')\n",
    "yesterday = ydy.strftime('%Y-%m-%d')\n",
    "url = 'http://mosprime.com/'"
   ]
  },
  {
   "cell_type": "code",
   "execution_count": 42,
   "id": "1a8b0a95",
   "metadata": {},
   "outputs": [
    {
     "name": "stdout",
     "output_type": "stream",
     "text": [
      "http://mosprime.com/\n"
     ]
    }
   ],
   "source": [
    "print(url)"
   ]
  },
  {
   "cell_type": "code",
   "execution_count": 43,
   "id": "32483837",
   "metadata": {},
   "outputs": [],
   "source": [
    "# Use below if using proxies, else use the second code\n",
    "#page = requests.get(url, proxies = proxy_dict, verify = false)\n",
    "\n",
    "page = requests.get(url)\n",
    "soup = BeautifulSoup(page.content, 'html.parser')\n",
    "tbl = soup.find('table', {\"class\":\"table table-bordered table-condensed arch-table rrr\"})"
   ]
  },
  {
   "cell_type": "markdown",
   "id": "10c2da9d",
   "metadata": {},
   "source": [
    "## Read table into dataframe. Rename column name, convert date format"
   ]
  },
  {
   "cell_type": "code",
   "execution_count": 44,
   "id": "83f19d06",
   "metadata": {},
   "outputs": [],
   "source": [
    "mos_df = pd.read_html(str(tbl))[0]\n",
    "mos_df = mos_df.rename(columns={0:'ITEM_NAME',1:''})\n",
    "mos_df['QUOTE_DATE'] = today\n",
    "mos_df = mos_df[:-1]"
   ]
  },
  {
   "cell_type": "code",
   "execution_count": 45,
   "id": "57a9afd7",
   "metadata": {},
   "outputs": [],
   "source": [
    "my_dict = {'MOSPRIME ON':'MOSPRIME_RUB_ON','MOSPRIME 1W':'MOSPRIME_RUB_1W','MOSPRIME 2W':'MOSPRIME_RUB_2W','MOSPRIME 1M':'MOSPRIME_RUB_1M','MOSPRIME 2M':'MOSPRIME_RUB_2M','MOSPRIME 3M':'MOSPRIME_RUB_3M'}"
   ]
  },
  {
   "cell_type": "code",
   "execution_count": 46,
   "id": "072e52ce",
   "metadata": {},
   "outputs": [],
   "source": [
    "for row in mos_df.iterrows():\n",
    "    mos_df.replace({\"ITEM_NAME\": my_dict},inplace=True)"
   ]
  },
  {
   "cell_type": "markdown",
   "id": "320898e2",
   "metadata": {},
   "source": [
    "## The final output. From here, you can do to_csv or anything else to save the rates"
   ]
  },
  {
   "cell_type": "code",
   "execution_count": 47,
   "id": "ff7d08f3",
   "metadata": {},
   "outputs": [
    {
     "data": {
      "text/html": [
       "<div>\n",
       "<style scoped>\n",
       "    .dataframe tbody tr th:only-of-type {\n",
       "        vertical-align: middle;\n",
       "    }\n",
       "\n",
       "    .dataframe tbody tr th {\n",
       "        vertical-align: top;\n",
       "    }\n",
       "\n",
       "    .dataframe thead th {\n",
       "        text-align: right;\n",
       "    }\n",
       "</style>\n",
       "<table border=\"1\" class=\"dataframe\">\n",
       "  <thead>\n",
       "    <tr style=\"text-align: right;\">\n",
       "      <th></th>\n",
       "      <th>ITEM_NAME</th>\n",
       "      <th></th>\n",
       "      <th>QUOTE_DATE</th>\n",
       "    </tr>\n",
       "  </thead>\n",
       "  <tbody>\n",
       "    <tr>\n",
       "      <th>0</th>\n",
       "      <td>MOSPRIME_RUB_ON</td>\n",
       "      <td>20.45</td>\n",
       "      <td>2022-03-25</td>\n",
       "    </tr>\n",
       "    <tr>\n",
       "      <th>1</th>\n",
       "      <td>MOSPRIME_RUB_1W</td>\n",
       "      <td>21.00</td>\n",
       "      <td>2022-03-25</td>\n",
       "    </tr>\n",
       "    <tr>\n",
       "      <th>2</th>\n",
       "      <td>MOSPRIME_RUB_2W</td>\n",
       "      <td>21.75</td>\n",
       "      <td>2022-03-25</td>\n",
       "    </tr>\n",
       "    <tr>\n",
       "      <th>3</th>\n",
       "      <td>MOSPRIME_RUB_1M</td>\n",
       "      <td>22.80</td>\n",
       "      <td>2022-03-25</td>\n",
       "    </tr>\n",
       "    <tr>\n",
       "      <th>4</th>\n",
       "      <td>MOSPRIME_RUB_2M</td>\n",
       "      <td>23.05</td>\n",
       "      <td>2022-03-25</td>\n",
       "    </tr>\n",
       "  </tbody>\n",
       "</table>\n",
       "</div>"
      ],
      "text/plain": [
       "         ITEM_NAME         QUOTE_DATE\n",
       "0  MOSPRIME_RUB_ON  20.45  2022-03-25\n",
       "1  MOSPRIME_RUB_1W  21.00  2022-03-25\n",
       "2  MOSPRIME_RUB_2W  21.75  2022-03-25\n",
       "3  MOSPRIME_RUB_1M  22.80  2022-03-25\n",
       "4  MOSPRIME_RUB_2M  23.05  2022-03-25"
      ]
     },
     "execution_count": 47,
     "metadata": {},
     "output_type": "execute_result"
    }
   ],
   "source": [
    "mos_df.head()"
   ]
  }
 ],
 "metadata": {
  "kernelspec": {
   "display_name": "Python 3 (ipykernel)",
   "language": "python",
   "name": "python3"
  },
  "language_info": {
   "codemirror_mode": {
    "name": "ipython",
    "version": 3
   },
   "file_extension": ".py",
   "mimetype": "text/x-python",
   "name": "python",
   "nbconvert_exporter": "python",
   "pygments_lexer": "ipython3",
   "version": "3.10.1"
  }
 },
 "nbformat": 4,
 "nbformat_minor": 5
}
