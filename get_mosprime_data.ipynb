{
 "cells": [
  {
   "cell_type": "markdown",
   "id": "53b462dc",
   "metadata": {},
   "source": [
    "# Scrape MOSPRIME and get rates"
   ]
  },
  {
   "cell_type": "markdown",
   "id": "a656c566",
   "metadata": {},
   "source": [
    "This script uses the read_html function to read the table after getting it through BS"
   ]
  },
  {
   "cell_type": "code",
   "execution_count": 10,
   "id": "7cd746c5",
   "metadata": {},
   "outputs": [],
   "source": [
    "import pandas as pd\n",
    "from datetime import datetime, timedelta\n",
    "from pandas.tseries.offsets import BDay\n",
    "from bs4 import BeautifulSoup\n",
    "import requests"
   ]
  },
  {
   "cell_type": "code",
   "execution_count": 11,
   "id": "b879f57c",
   "metadata": {},
   "outputs": [],
   "source": [
    "## Use Proxy Dictionary if required\n",
    "proxy_dict = {'http:':'url here:port'}"
   ]
  },
  {
   "cell_type": "code",
   "execution_count": 23,
   "id": "a6afd082",
   "metadata": {},
   "outputs": [],
   "source": [
    "tdy = datetime.today().date()\n",
    "ydy = tdy - timedelta(days=1)\n",
    "today = tdy.strftime('%Y-%m-%d')\n",
    "yesterday = ydy.strftime('%Y-%m-%d')\n",
    "url = 'http://mosprime.com/archive?date_from='+yesterday+'&date_to='+yesterday+'&contributor='"
   ]
  },
  {
   "cell_type": "code",
   "execution_count": 24,
   "id": "1a8b0a95",
   "metadata": {},
   "outputs": [
    {
     "name": "stdout",
     "output_type": "stream",
     "text": [
      "http://mosprime.com/archive?date_from=2022-03-22&date_to=2022-03-22&contributor=\n"
     ]
    }
   ],
   "source": [
    "print(url)"
   ]
  },
  {
   "cell_type": "code",
   "execution_count": 25,
   "id": "32483837",
   "metadata": {},
   "outputs": [],
   "source": [
    "# Use below if using proxies, else use the second code\n",
    "#page = requests.get(url, proxies = proxy_dict, verify = false)\n",
    "\n",
    "page = requests.get(url)\n",
    "soup = BeautifulSoup(page.content, 'html.parser')\n",
    "tbl = soup.find('table', {\"class\":\"table table-bordered table-condensed arch-table rrr\"})"
   ]
  },
  {
   "cell_type": "markdown",
   "id": "10c2da9d",
   "metadata": {},
   "source": [
    "## Read table into dataframe. Rename column name, convert date format"
   ]
  },
  {
   "cell_type": "code",
   "execution_count": 37,
   "id": "83f19d06",
   "metadata": {},
   "outputs": [],
   "source": [
    "mos_df = pd.read_html(str(tbl), parse_dates=True)[0]\n",
    "mos_df = mos_df.rename(columns={'Дата':'date'})\n",
    "mos_df['date'] =pd.to_datetime(mos_df['date']).dt.strftime('%Y-%m-%d')"
   ]
  },
  {
   "cell_type": "code",
   "execution_count": 38,
   "id": "57a9afd7",
   "metadata": {},
   "outputs": [
    {
     "data": {
      "text/html": [
       "<div>\n",
       "<style scoped>\n",
       "    .dataframe tbody tr th:only-of-type {\n",
       "        vertical-align: middle;\n",
       "    }\n",
       "\n",
       "    .dataframe tbody tr th {\n",
       "        vertical-align: top;\n",
       "    }\n",
       "\n",
       "    .dataframe thead th {\n",
       "        text-align: right;\n",
       "    }\n",
       "</style>\n",
       "<table border=\"1\" class=\"dataframe\">\n",
       "  <thead>\n",
       "    <tr style=\"text-align: right;\">\n",
       "      <th></th>\n",
       "      <th>date</th>\n",
       "      <th>0N</th>\n",
       "      <th>1W</th>\n",
       "      <th>2W</th>\n",
       "      <th>1M</th>\n",
       "      <th>2M</th>\n",
       "      <th>3M</th>\n",
       "      <th>6M</th>\n",
       "    </tr>\n",
       "  </thead>\n",
       "  <tbody>\n",
       "    <tr>\n",
       "      <th>0</th>\n",
       "      <td>2022-03-22</td>\n",
       "      <td>20.58</td>\n",
       "      <td>21.33</td>\n",
       "      <td>21.88</td>\n",
       "      <td>23.06</td>\n",
       "      <td>23.67</td>\n",
       "      <td>24.17</td>\n",
       "      <td>24.46</td>\n",
       "    </tr>\n",
       "  </tbody>\n",
       "</table>\n",
       "</div>"
      ],
      "text/plain": [
       "         date     0N     1W     2W     1M     2M     3M     6M\n",
       "0  2022-03-22  20.58  21.33  21.88  23.06  23.67  24.17  24.46"
      ]
     },
     "execution_count": 38,
     "metadata": {},
     "output_type": "execute_result"
    }
   ],
   "source": [
    "mos_df.head()"
   ]
  }
 ],
 "metadata": {
  "kernelspec": {
   "display_name": "Python 3 (ipykernel)",
   "language": "python",
   "name": "python3"
  },
  "language_info": {
   "codemirror_mode": {
    "name": "ipython",
    "version": 3
   },
   "file_extension": ".py",
   "mimetype": "text/x-python",
   "name": "python",
   "nbconvert_exporter": "python",
   "pygments_lexer": "ipython3",
   "version": "3.10.1"
  }
 },
 "nbformat": 4,
 "nbformat_minor": 5
}
