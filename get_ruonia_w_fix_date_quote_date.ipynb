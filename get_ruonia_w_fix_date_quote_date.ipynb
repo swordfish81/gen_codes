{
 "cells": [
  {
   "cell_type": "markdown",
   "id": "53b462dc",
   "metadata": {},
   "source": [
    "# Scrape RUONIA and get rate"
   ]
  },
  {
   "cell_type": "markdown",
   "id": "a656c566",
   "metadata": {},
   "source": [
    "This script scrape RUONIA website. The difference with this script is that there is also a fix_date, in addition to the quote_date or publish date"
   ]
  },
  {
   "cell_type": "code",
   "execution_count": 72,
   "id": "7cd746c5",
   "metadata": {},
   "outputs": [],
   "source": [
    "import pandas as pd\n",
    "from datetime import datetime, timedelta\n",
    "from pandas.tseries.offsets import BDay\n",
    "from bs4 import BeautifulSoup\n",
    "import requests"
   ]
  },
  {
   "cell_type": "code",
   "execution_count": 73,
   "id": "b879f57c",
   "metadata": {},
   "outputs": [],
   "source": [
    "## Use Proxy Dictionary if required\n",
    "proxy_dict = {'http:':'url here:port'}"
   ]
  },
  {
   "cell_type": "code",
   "execution_count": 74,
   "id": "a6afd082",
   "metadata": {},
   "outputs": [],
   "source": [
    "tdy = datetime.today().date()\n",
    "ydy = tdy - timedelta(days=1)\n",
    "today = tdy.strftime('%Y-%m-%d')\n",
    "yesterday = ydy.strftime('%Y-%m-%d')\n",
    "url = 'http://ruonia.ru/'"
   ]
  },
  {
   "cell_type": "code",
   "execution_count": 75,
   "id": "1a8b0a95",
   "metadata": {},
   "outputs": [
    {
     "name": "stdout",
     "output_type": "stream",
     "text": [
      "http://ruonia.ru/\n"
     ]
    }
   ],
   "source": [
    "print(url)"
   ]
  },
  {
   "cell_type": "code",
   "execution_count": 76,
   "id": "32483837",
   "metadata": {},
   "outputs": [],
   "source": [
    "# Use below if using proxies, else use the second code\n",
    "#page = requests.get(url, proxies = proxy_dict, verify = false)\n",
    "\n",
    "page = requests.get(url)\n",
    "soup = BeautifulSoup(page.content, 'html.parser')\n",
    "tbl = soup.find('div', {\"class\":\"info\"})"
   ]
  },
  {
   "cell_type": "markdown",
   "id": "10c2da9d",
   "metadata": {},
   "source": [
    "## Stick to BS, get div element with class info used in RUONIA rates"
   ]
  },
  {
   "cell_type": "code",
   "execution_count": 77,
   "id": "0a3b2a62",
   "metadata": {},
   "outputs": [],
   "source": [
    "#Create empty list\n",
    "ru = []\n",
    "\n",
    "#For item in tbl, find span tag, strip and append to list\n",
    "for item in tbl.findAll('span'):\n",
    "    ru.append(item.text.strip())\n",
    "\n",
    "#Convert list elements into a dict for further use\n",
    "ru_dict = {'RUONIA':ru[0][:4],'FIX_DATE':ru[2],'QUOTE_DATE':ru[3]}"
   ]
  },
  {
   "cell_type": "code",
   "execution_count": 80,
   "id": "3b4ca291",
   "metadata": {},
   "outputs": [
    {
     "name": "stdout",
     "output_type": "stream",
     "text": [
      "{'RUONIA': '19.5', 'FIX_DATE': '23.03.2022', 'QUOTE_DATE': '24.03.2022'}\n"
     ]
    }
   ],
   "source": [
    "print(ru_dict)"
   ]
  },
  {
   "cell_type": "markdown",
   "id": "454e4d5f",
   "metadata": {},
   "source": [
    "--------------------------------------------  \n",
    "Use however you want, either to csv or something else"
   ]
  }
 ],
 "metadata": {
  "kernelspec": {
   "display_name": "Python 3 (ipykernel)",
   "language": "python",
   "name": "python3"
  },
  "language_info": {
   "codemirror_mode": {
    "name": "ipython",
    "version": 3
   },
   "file_extension": ".py",
   "mimetype": "text/x-python",
   "name": "python",
   "nbconvert_exporter": "python",
   "pygments_lexer": "ipython3",
   "version": "3.10.1"
  }
 },
 "nbformat": 4,
 "nbformat_minor": 5
}
