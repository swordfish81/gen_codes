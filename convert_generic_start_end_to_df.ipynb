{
 "cells": [
  {
   "cell_type": "markdown",
   "id": "8ec7caf7",
   "metadata": {},
   "source": [
    "## Code to convert & structure generic start and end correctly"
   ]
  },
  {
   "cell_type": "markdown",
   "id": "650922fb",
   "metadata": {},
   "source": [
    "This file should be in the same folder as where the generics are stored"
   ]
  },
  {
   "cell_type": "code",
   "execution_count": 121,
   "id": "4100c6a9",
   "metadata": {},
   "outputs": [],
   "source": [
    "import csv\n",
    "import pandas as pd"
   ]
  },
  {
   "cell_type": "markdown",
   "id": "ffe38b59",
   "metadata": {},
   "source": [
    "Input the files as a list below (from XA2.txt to XA72.txt)"
   ]
  },
  {
   "cell_type": "code",
   "execution_count": 117,
   "id": "8b3db28c",
   "metadata": {},
   "outputs": [],
   "source": [
    "myfile = ['XA2.txt','XA3.txt','XA72.txt']"
   ]
  },
  {
   "cell_type": "code",
   "execution_count": 125,
   "id": "3def80b4",
   "metadata": {},
   "outputs": [],
   "source": [
    "mylist = []\n",
    "for ele in myfile:\n",
    "    with open(ele, newline = '') as file:                                                                                          \n",
    "        file_reader = csv.reader(file, delimiter='\\t')\n",
    "        for row in file_reader:\n",
    "            row.insert(1, ele[:-4])\n",
    "            mylist.append(row)\n",
    "            #print(row)\n",
    "df = pd.DataFrame(mylist, columns=['level','generic','contract','start','end'])"
   ]
  },
  {
   "cell_type": "markdown",
   "id": "7bf60a4d",
   "metadata": {},
   "source": [
    "At this point, the df still keeps dates at mm/dd/yy format. This should be changed to yyyy-mm-dd format"
   ]
  },
  {
   "cell_type": "code",
   "execution_count": 127,
   "id": "3c3f3c24",
   "metadata": {},
   "outputs": [],
   "source": [
    "df['start'] = pd.to_datetime(df['start'])\n",
    "df['end'] = pd.to_datetime(df['end'])\n",
    "\n",
    "#df.start.apply(lambda x: x.strftime('%Y%m%d')).astype(int)\n",
    "#df.end.apply(lambda x: x.strftime('%Y%m%d')).astype(int)"
   ]
  },
  {
   "cell_type": "code",
   "execution_count": 129,
   "id": "87d4f145",
   "metadata": {},
   "outputs": [
    {
     "data": {
      "text/html": [
       "<div>\n",
       "<style scoped>\n",
       "    .dataframe tbody tr th:only-of-type {\n",
       "        vertical-align: middle;\n",
       "    }\n",
       "\n",
       "    .dataframe tbody tr th {\n",
       "        vertical-align: top;\n",
       "    }\n",
       "\n",
       "    .dataframe thead th {\n",
       "        text-align: right;\n",
       "    }\n",
       "</style>\n",
       "<table border=\"1\" class=\"dataframe\">\n",
       "  <thead>\n",
       "    <tr style=\"text-align: right;\">\n",
       "      <th></th>\n",
       "      <th>level</th>\n",
       "      <th>generic</th>\n",
       "      <th>contract</th>\n",
       "      <th>start</th>\n",
       "      <th>end</th>\n",
       "    </tr>\n",
       "  </thead>\n",
       "  <tbody>\n",
       "    <tr>\n",
       "      <th>0</th>\n",
       "      <td>1.</td>\n",
       "      <td>XA2</td>\n",
       "      <td>XAF2 Comdty</td>\n",
       "      <td>2022-01-26</td>\n",
       "      <td>2022-02-19</td>\n",
       "    </tr>\n",
       "    <tr>\n",
       "      <th>1</th>\n",
       "      <td>2.</td>\n",
       "      <td>XA2</td>\n",
       "      <td>XAG2 Comdty</td>\n",
       "      <td>2022-02-20</td>\n",
       "      <td>2022-03-19</td>\n",
       "    </tr>\n",
       "    <tr>\n",
       "      <th>2</th>\n",
       "      <td>3.</td>\n",
       "      <td>XA2</td>\n",
       "      <td>XAH2 Comdty</td>\n",
       "      <td>2022-03-20</td>\n",
       "      <td>2022-04-19</td>\n",
       "    </tr>\n",
       "    <tr>\n",
       "      <th>3</th>\n",
       "      <td>1.</td>\n",
       "      <td>XA3</td>\n",
       "      <td>XAI2 Comdty</td>\n",
       "      <td>2022-04-26</td>\n",
       "      <td>2022-05-19</td>\n",
       "    </tr>\n",
       "    <tr>\n",
       "      <th>4</th>\n",
       "      <td>2.</td>\n",
       "      <td>XA3</td>\n",
       "      <td>XAJ2 Comdty</td>\n",
       "      <td>2022-05-20</td>\n",
       "      <td>2022-06-19</td>\n",
       "    </tr>\n",
       "  </tbody>\n",
       "</table>\n",
       "</div>"
      ],
      "text/plain": [
       "  level generic     contract      start        end\n",
       "0    1.     XA2  XAF2 Comdty 2022-01-26 2022-02-19\n",
       "1    2.     XA2  XAG2 Comdty 2022-02-20 2022-03-19\n",
       "2    3.     XA2  XAH2 Comdty 2022-03-20 2022-04-19\n",
       "3    1.     XA3  XAI2 Comdty 2022-04-26 2022-05-19\n",
       "4    2.     XA3  XAJ2 Comdty 2022-05-20 2022-06-19"
      ]
     },
     "execution_count": 129,
     "metadata": {},
     "output_type": "execute_result"
    }
   ],
   "source": [
    "df.head()"
   ]
  },
  {
   "cell_type": "code",
   "execution_count": null,
   "id": "6b61ad6f",
   "metadata": {},
   "outputs": [],
   "source": []
  }
 ],
 "metadata": {
  "kernelspec": {
   "display_name": "Python 3 (ipykernel)",
   "language": "python",
   "name": "python3"
  },
  "language_info": {
   "codemirror_mode": {
    "name": "ipython",
    "version": 3
   },
   "file_extension": ".py",
   "mimetype": "text/x-python",
   "name": "python",
   "nbconvert_exporter": "python",
   "pygments_lexer": "ipython3",
   "version": "3.10.1"
  }
 },
 "nbformat": 4,
 "nbformat_minor": 5
}
